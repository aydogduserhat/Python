{
 "cells": [
  {
   "cell_type": "code",
   "execution_count": 30,
   "metadata": {},
   "outputs": [],
   "source": [
    "# This code answers the problem below\n",
    "# You will have an orthogonal triangle input from a file and you need to find the maximum sum of the numbers\n",
    "# according to given rules below;\n",
    "#\n",
    "# 1. You will start from the top and move downwards to an adjacent number as in below.\n",
    "# 2. You are only allowed to walk downwards and diagonally.\n",
    "# 3. You can only walk over NON PRIME NUMBERS.\n",
    "# 4. You have to reach at the end of the pyramid as much as possible.\n",
    "# 5. You have to treat your input as pyramid\n",
    "#\n",
    "# Author: Serhat Aydogdu"
   ]
  },
  {
   "cell_type": "markdown",
   "metadata": {},
   "source": [
    "#### Defining function that checks whether the number is prime or not"
   ]
  },
  {
   "cell_type": "code",
   "execution_count": 31,
   "metadata": {},
   "outputs": [],
   "source": [
    "def isPrime(number):\n",
    "    if number > 1:\n",
    "        for i in range(2, number):\n",
    "            if (number % i) == 0:\n",
    "                return False\n",
    "        else:\n",
    "            return True\n",
    "    else:\n",
    "        return False"
   ]
  },
  {
   "cell_type": "markdown",
   "metadata": {},
   "source": [
    "## Reading the data"
   ]
  },
  {
   "cell_type": "code",
   "execution_count": 32,
   "metadata": {},
   "outputs": [
    {
     "name": "stdout",
     "output_type": "stream",
     "text": [
      "              215\n",
      "\n",
      "             193 124\n",
      "\n",
      "            117 237 442\n",
      "\n",
      "           218 935 347 235\n",
      "\n",
      "          320 804 522 417 345\n",
      "\n",
      "         229 601 723 835 133 124\n",
      "\n",
      "        248 202 277 433 207 263 257\n",
      "\n",
      "       359 464 504 528 516 716 871 182\n",
      "\n",
      "      461 441 426 656 863 560 380 171 923\n",
      "\n",
      "     381 348 573 533 447 632 387 176 975 449\n",
      "\n",
      "    223 711 445 645 245 543 931 532 937 541 444\n",
      "\n",
      "   330 131 333 928 377 733 017 778 839 168 197 197\n",
      "\n",
      "  131 171 522 137 217 224 291 413 528 520 227 229 928\n",
      "\n",
      " 223 626 034 683 839 053 627 310 713 999 629 817 410 121\n",
      "\n",
      "924 622 911 233 325 139 721 218 253 223 107 233 230 124 233\n"
     ]
    }
   ],
   "source": [
    "data = open('data.txt')\n",
    "lines = data.readlines()\n",
    "data.close()\n",
    "pyramid = []\n",
    "for i in lines:\n",
    "    print(i)"
   ]
  },
  {
   "cell_type": "markdown",
   "metadata": {},
   "source": [
    "## Converting the pyramid to array"
   ]
  },
  {
   "cell_type": "code",
   "execution_count": 33,
   "metadata": {},
   "outputs": [],
   "source": [
    "for line in lines:\n",
    "    pyramid.append(line.split())\n",
    "for i in range(0,len(pyramid)):\n",
    "    for j in range(0,len(pyramid[i])):\n",
    "        pyramid[i][j] = int(pyramid[i][j])"
   ]
  },
  {
   "cell_type": "markdown",
   "metadata": {},
   "source": [
    "## Determining the pyramid's sum of the numbers on the direction that gives the maximum summation\n"
   ]
  },
  {
   "cell_type": "code",
   "execution_count": 34,
   "metadata": {},
   "outputs": [],
   "source": [
    "for i in range(len(pyramid)-2, -1, -1):\n",
    "    for j in range(0, len(pyramid[i])):\n",
    "        if isPrime(pyramid[i][j]) == False:\n",
    "            pyramid[i][j] += max(pyramid[i+1][j], pyramid[i+1][j+1])"
   ]
  },
  {
   "cell_type": "markdown",
   "metadata": {},
   "source": [
    "## Printing the maximum value\n"
   ]
  },
  {
   "cell_type": "code",
   "execution_count": 35,
   "metadata": {},
   "outputs": [
    {
     "name": "stdout",
     "output_type": "stream",
     "text": [
      "The maximum sum of the numbers is 8442\n"
     ]
    }
   ],
   "source": [
    "print('The maximum sum of the numbers is',max(pyramid)[0])"
   ]
  }
 ],
 "metadata": {
  "kernelspec": {
   "display_name": "Python 3",
   "language": "python",
   "name": "python3"
  },
  "language_info": {
   "codemirror_mode": {
    "name": "ipython",
    "version": 3
   },
   "file_extension": ".py",
   "mimetype": "text/x-python",
   "name": "python",
   "nbconvert_exporter": "python",
   "pygments_lexer": "ipython3",
   "version": "3.8.2"
  }
 },
 "nbformat": 4,
 "nbformat_minor": 4
}
